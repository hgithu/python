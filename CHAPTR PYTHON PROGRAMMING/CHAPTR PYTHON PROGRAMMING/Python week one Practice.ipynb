{
 "cells": [
  {
   "cell_type": "markdown",
   "metadata": {},
   "source": [
    "# PYTHON WEEK ONE PRACTICE"
   ]
  },
  {
   "cell_type": "markdown",
   "metadata": {},
   "source": [
    "- DO NOT CHANGE THE FUNCTION NAMES OR THE ASSERTION CHECKS ; IT WILL RESULT IN AN ERROR\n",
    "- WRITE YOUR CODE WITHIN THE SPECIFIED REGION\n",
    "- IF THE ASSERTION CHECKS RAISE AN ERROR RECTIFY YOUR CODE UNTIL NO ERROR IS RAISED BY THE ASSERTION CHECKS\n",
    "- YOU CAN ADD YOUR OWN HELPER FUNCTIONS OR CREATE/ALTER GLOBAL VARIABLES BUT DO NOT ALTER THE FUNCTIONS YOU FIND ON THE NOTEBOOK"
   ]
  },
  {
   "cell_type": "code",
   "execution_count": null,
   "metadata": {},
   "outputs": [],
   "source": []
  },
  {
   "cell_type": "markdown",
   "metadata": {},
   "source": [
    "#### 1. For any number n create an equivalent pattern (use only the number n for the pattern and initialize it only once)\n",
    "```   \n",
    "    * \n",
    "   * * \n",
    "  * * * \n",
    " * * * * \n",
    "* * * * * \n",
    " * * * * \n",
    "  * * *  \n",
    "   * *\n",
    "    *\n",
    "```"
   ]
  },rows = 3
k = 2 * rows - 2
num = rows

for i in range(0, rows):
    for j in range(0, k):
        print(end=" ")

    k = k - 1
    for j in range(0, i + 1):
       print(num, end=" ")
    print("\n")

k = rows - 2

for i in range(num, -1, -1):
    for j in range(k, 0, -1):
        print(end=" ")

    k = k + 1

    for j in range(0, i + 1):
        print(num, end=" ")
    print("\n")

  {
   "cell_type": "code",
   "execution_count": null,
   "metadata": {},
   "outputs": [],
   "source": []
  },
  {
   "cell_type": "code",
   "execution_count": null,
   "metadata": {},
   "outputs": [],
   "source": []
  },
  {
   "cell_type": "markdown",
   "metadata": {},
   "source": [
    "#### 2. Using a for/while loop , implement a function to return the N-th fibbonacci number"
   ]
  },
  {
   "cell_type": "code",
   "execution_count": 1,
   "metadata": {},
   "outputs": [],
   "source": [
    "def fibbonacci(n):\n",
    "    \n",
    "    # print("using Recussion")

def fibonacci (n):
    if n <= 0:
        print("incorrect input")

    elif n == 1:
        return  0

    elif n == 2:
        return 1

    else:
        return fibonacci(n-1)+fibonacci(n-2)

print(fibonacci(0))
\n",
    "   \n",
    "    return fibbonacci_number"
   ]
  },
  {
   "cell_type": "code",
   "execution_count": null,
   "metadata": {},
   "outputs": [],
   "source": [
    "assert fibbonacci(0) == 0\n",
    "assert fibbonacci(2) == 1\n",
    "assert fibbonacci(20) == 6765\n",
    "assert fibbonacci(1000) == 43466557686937456435688527675040625802564660517371780402481729089536555417949051890403879840079255169295922593080322634775209689623239873322471161642996440906533187938298969649928516003704476137795166849228875"
   ]
  },
  {
   "cell_type": "code",
   "execution_count": null,
   "metadata": {},
   "outputs": [],
   "source": []
  },
  {
   "cell_type": "markdown",
   "metadata": {},
   "source": [
    "#### 3. Implement a function that accepts an integer and checks whether the number is prime\n",
    "#### If it is prime returns True , if not returns False"
   ]
  },
  {
   "cell_type": "code",
   "execution_count": null,
   "metadata": {},
   "outputs": [],
   "source": [
    "def is_prime(n):\n",
    "    \n",
    "    # def check_prime(num):
    is_prime = False
    if num == 2:
        is_prime = True
    if num > 2:
        is_prime = True
        for i in range(2, num):
            if num % i == 0:
                is_prime = False
                break

    if is_prime:
        print(num, "TRUE")
    else:
        print(num, "FALSE")


if __name__ == '__main__':

    userInput = int(input("Enter a number to check:"))
    if userInput > 1:
        check_prime(userInput)
    else:
        print("Sorry, Input Number must be greater than 1")
\n",
    "        \n",
    "    return True"
   ]
  },
  {
   "cell_type": "code",
   "execution_count": null,
   "metadata": {},
   "outputs": [],
   "source": [
    "assert is_prime(1) == False\n",
    "assert is_prime(7) == True\n",
    "assert is_prime(1331) == False\n",
    "assert is_prime(173) == True"
   ]
  },
  {
   "cell_type": "code",
   "execution_count": null,
   "metadata": {},
   "outputs": [],
   "source": []
  },
  {
   "cell_type": "code",
   "execution_count": null,
   "metadata": {},
   "outputs": [],
   "source": []
  },
  {
   "cell_type": "markdown",
   "metadata": {},
   "source": [
    "#### 4. Implement a function that accepts two numbers N and M.\n",
    "def consecutive_addition_loop( n , m )<br>\n",
    "e.g for <font color = orange>consecutive_addition ( 2 , 4 )</font> , it will add \n",
    "<font color = orange>2, 3, 4, 5, 6</font> and give a result of <font color = orange>20</font> for N = 2, M =4 <br>\n",
    "\n",
    "- There are two cases \n",
    "1. Case 1 : use a Loop\n",
    "2. Case 2 : use Recurssion"
   ]
  },
  {
   "cell_type": "code",
   "execution_count": null,
   "metadata": {},
   "outputs": [],
   "source": [
    "def consecutive_addition_loop( n , m ):\n",
    "    \n",
    "    # write your code here\n",
    "    \n",
    "    return number_sum"
   ]
  },
  {
   "cell_type": "code",
   "execution_count": null,
   "metadata": {},
   "outputs": [],
   "source": [
    "assert consecutive_addition_loop( 2, 12 ) == 104\n",
    "assert consecutive_addition_loop( 230, 70 ) == 18815\n",
    "assert consecutive_addition_loop( 0, 0 ) == 0\n",
    "assert consecutive_addition_loop( 44, 1000) == 544544"
   ]
  },
  {
   "cell_type": "code",
   "execution_count": null,
   "metadata": {},
   "outputs": [],
   "source": []
  },
  {
   "cell_type": "code",
   "execution_count": null,
   "metadata": {},
   "outputs": [],
   "source": []
  },
  {
   "cell_type": "code",
   "execution_count": null,
   "metadata": {},
   "outputs": [],
   "source": [
    "def consecutive_addition_recursion( n , m ):\n",
    "    \n",
    "    # write your code here\n",
    "    # for this you can edit the reurn line to where it fits best\n",
    "    \n",
    "    return number_sum"
   ]
  },
  {
   "cell_type": "code",
   "execution_count": null,
   "metadata": {},
   "outputs": [],
   "source": [
    "assert consecutive_addition_recursion( 2, 12 ) == 104\n",
    "assert consecutive_addition_recursion( 230, 70 ) == 18815\n",
    "assert consecutive_addition_recursion( 0, 0 ) == 0\n",
    "assert consecutive_addition_recursion( 44, 1000) == 544544"
   ]
  },
  {
   "cell_type": "code",
   "execution_count": null,
   "metadata": {},
   "outputs": [],
   "source": []
  },
  {
   "cell_type": "code",
   "execution_count": null,
   "metadata": {},
   "outputs": [],
   "source": []
  },
  {
   "cell_type": "markdown",
   "metadata": {},
   "source": [
    "#### 5. Implement a function that accepts two numbers N and M.\n",
    "If N is Even, add the next M even numbers to N ; if N is Odd , add the next M odd numbers to N<br>\n",
    "e.g for <font color = orange>consecutive_addition ( 2 , 5 )</font> , it will add \n",
    "<font color = orange>2, 4, 6, 8, 10, 12</font> and give a result of <font color = orange>42</font> for N = 2, M = 5 <br>\n",
    "e.g for <font color = orange>consecutive_addition ( 7, 10  )</font> , it will add \n",
    "<font color = orange>7, 9, 11, 13, 15, 17, 19, 21, 23, 25, 27</font> and give a result of <font color = orange>187</font> for N = 7, M =10 <br>"
   ]
  },
  {
   "cell_type": "code",
   "execution_count": null,
   "metadata": {},
   "outputs": [],
   "source": [
    "def consecutive_adittion(n,m):\n",
    "    \n",
    "    # write your code here\n",
    "    \n",
    "    return sum_of_numbers"
   ]
  },
  {
   "cell_type": "code",
   "execution_count": null,
   "metadata": {},
   "outputs": [],
   "source": [
    "assert consecutive_addition( 4, 2 ) == 18\n",
    "assert consecutive_addition( 7, 9 ) == 160\n",
    "assert consecutive_addition( 17, 40 ) == 2337\n",
    "assert consecutive_addition( 1013, 121 ) == 138348"
   ]
  },
  {
   "cell_type": "code",
   "execution_count": null,
   "metadata": {},
   "outputs": [],
   "source": []
  },
  {
   "cell_type": "code",
   "execution_count": null,
   "metadata": {},
   "outputs": [],
   "source": []
  },
  {
   "cell_type": "markdown",
   "metadata": {},
   "source": [
    "#### Optional\n",
    "- For Practice you could try question 5 but with prime functions\n",
    "- Hint  you can combine the is_prime function with the consecutive addition"
   ]
  },
  {
   "cell_type": "code",
   "execution_count": null,
   "metadata": {},
   "outputs": [],
   "source": []
  }
 ],
 "metadata": {
  "kernelspec": {
   "display_name": "Python 3",
   "language": "python",
   "name": "python3"
  },
  "language_info": {
   "codemirror_mode": {
    "name": "ipython",
    "version": 3
   },
   "file_extension": ".py",
   "mimetype": "text/x-python",
   "name": "python",
   "nbconvert_exporter": "python",
   "pygments_lexer": "ipython3",
   "version": "3.7.4"
  }
 },
 "nbformat": 4,
 "nbformat_minor": 4
}
