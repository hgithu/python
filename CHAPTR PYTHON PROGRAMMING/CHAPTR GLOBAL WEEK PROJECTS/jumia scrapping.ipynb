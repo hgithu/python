{
 "cells": [
  {
   "cell_type": "code",
   "execution_count": 38,
   "id": "d69429f3",
   "metadata": {},
   "outputs": [],
   "source": [
    "import requests\n",
    "from bs4 import BeautifulSoup\n",
    "import csv\n",
    "import pandas as pd\n",
    "\n",
    "\n"
   ]
  },
  {
   "cell_type": "code",
   "execution_count": 39,
   "id": "01e27b13",
   "metadata": {},
   "outputs": [],
   "source": [
    "\n",
    "\n",
    "url = 'https://www.jumia.co.ke/mlp-deals-of-the-day'"
   ]
  },
  {
   "cell_type": "code",
   "execution_count": 28,
   "id": "6a8fae36",
   "metadata": {},
   "outputs": [],
   "source": [
    "def get_status_code(url):\n",
    "    response = requests.get(url)\n",
    "    return response.status_code"
   ]
  },
  {
   "cell_type": "code",
   "execution_count": 40,
   "id": "6de7c024",
   "metadata": {},
   "outputs": [],
   "source": [
    "def get_soup(url):\n",
    "    if get_status_code(url) == 200:\n",
    "        response = requests.get(url)\n",
    "        soup = BeautifulSoup(response.text, 'html.parser')\n",
    "        return soup\n",
    "    else:\n",
    "        print('status code: ', get_status_code(url))"
   ]
  },
  {
   "cell_type": "code",
   "execution_count": 14,
   "id": "8511cb22",
   "metadata": {},
   "outputs": [],
   "source": [
    "def get_product(url)\n",
    "    return [name, price, url]\n",
    "         except:\n",
    "       print('There was a problem scraping the product on this link: ', URL)\n"
   ]
  },
  {
   "cell_type": "code",
   "execution_count": 49,
   "id": "e72dfde1",
   "metadata": {},
   "outputs": [],
   "source": [
    "def get_product_name(soup):\n",
    "    \n",
    "    name_lst = find_all('<div>(.+)</div>', str(soup.find_all('h1', {'class':'name'})))\n",
    "    \n",
    "    if len(name_lst) > 0:\n",
    "        product_name = name_lst[0].capitalize()\n",
    "        return product_name\n",
    "    else:\n",
    "        print('None of the product name was scraped')\n",
    "        return none"
   ]
  },
  {
   "cell_type": "code",
   "execution_count": 42,
   "id": "085becf7",
   "metadata": {},
   "outputs": [],
   "source": [
    "def get_price(soup):\n",
    "    price_lst = re.findall('KSH\\$([0-9.,]+)', str(soup.find_all('span', {'class':'prc'})))\n",
    "    \n",
    "    if len(price_lst) > 0:\n",
    "        price = float(price_lst[0])\n",
    "        return price\n",
    "    else:\n",
    "        print('None of the product price was scraped')\n",
    "        return none\n",
    "        \n",
    "   "
   ]
  },
  {
   "cell_type": "code",
   "execution_count": 43,
   "id": "73cf49fb",
   "metadata": {},
   "outputs": [],
   "source": [
    "def get_product_brand(soup):\n",
    "    brand_lst = re.find_all('<div>(.+)</div>', str(soup.find_all('h1', {'class':'brand'})))\n",
    "    if len(brand_lst) > 0:\n",
    "        product_brand = brand_lst[0].capitalize()\n",
    "        return product_brand\n",
    "    else:\n",
    "        print('None of the product brands was scraped')\n",
    "        return none\n",
    "    "
   ]
  },
  {
   "cell_type": "code",
   "execution_count": 44,
   "id": "99c0f789",
   "metadata": {},
   "outputs": [],
   "source": [
    "\n",
    "def get_product_ratings(soup):\n",
    "    total_ratings = 0\n",
    "    avg_rating = 0\n",
    "    for item in product.find_all(class_='total-ratings'):\n",
    "        values = item.find_all(text=True)\n",
    "        total_ratings = ''.join(values).strip('()')\n",
    "    for item in product.find_all(class_='stars'):\n",
    "        avg_rating = round(\n",
    "            int(item['style'].split()[-1].replace(\"%\", \"\"))/100 * 5, 1)\n",
    "    return [total_ratings, avg_rating]\n"
   ]
  },
  {
   "cell_type": "code",
   "execution_count": 45,
   "id": "658496db",
   "metadata": {},
   "outputs": [],
   "source": [
    "def get_product_reviews(soup):\n",
    "    reviews_lst = re.find_all('<div>(.+)</div>', str(soup.find_all('h2', {'class':'Product Reviews'})))\n",
    "    if len(reviews_lst) > 0:\n",
    "        product_reviews = reviews_lst[0].capitalize()\n",
    "        return product_reviews\n",
    "    else:\n",
    "        print('None of the product reviews was scraped')\n",
    "        return none"
   ]
  },
  {
   "cell_type": "code",
   "execution_count": 46,
   "id": "1a3a17ef",
   "metadata": {},
   "outputs": [],
   "source": [
    "def get_remaining_stock(soup):\n",
    "    remaining_stock_lst = re.find_all('<div>(.+)</div>', str(soup.find_all('h1', {'class':'stk'})))\n",
    "    if len(remaining_stock_lst) > 0:\n",
    "        remaining_stock = remaining_stock_lst[0].capitalize()\n",
    "        return remaining_stock\n",
    "    else:\n",
    "        print('None of the product item left was scraped')\n",
    "        return none\n",
    "        "
   ]
  },
  {
   "cell_type": "code",
   "execution_count": null,
   "id": "ba03411b",
   "metadata": {
    "scrolled": false
   },
   "outputs": [],
   "source": [
    "data = {}\n",
    "\n",
    "soup = get_product(url)\n",
    "name = get_product_name(soup)\n",
    "brand = get_product_brand(soup)\n",
    "price = get_product_price(soup)\n",
    "discount = get_product_discount(soup)\n",
    "review = get_product_reviews(soup)\n",
    "rating = get_product_rating(soup)\n",
    "items_left = get_remaining_stock(soup)\n",
    "\n",
    "list_of_list=[soup, name, brand, price, discount, review, rating, items_left]\n",
    "\n",
    "jumia_file = open('jumia_products.csv', 'w',newline='')   \n",
    "writer = csv.writer(jumia_file)\n",
    "    \n",
    "print (df)\n",
    "df.to_csv('jumia_products.csv')\n",
    "jumia_file.close()\n",
    "    \n",
    "    \n",
    "   "
   ]
  },
  {
   "cell_type": "code",
   "execution_count": null,
   "id": "226403fe",
   "metadata": {},
   "outputs": [],
   "source": []
  }
 ],
 "metadata": {
  "kernelspec": {
   "display_name": "Python 3 (ipykernel)",
   "language": "python",
   "name": "python3"
  },
  "language_info": {
   "codemirror_mode": {
    "name": "ipython",
    "version": 3
   },
   "file_extension": ".py",
   "mimetype": "text/x-python",
   "name": "python",
   "nbconvert_exporter": "python",
   "pygments_lexer": "ipython3",
   "version": "3.8.10"
  }
 },
 "nbformat": 4,
 "nbformat_minor": 5
}
