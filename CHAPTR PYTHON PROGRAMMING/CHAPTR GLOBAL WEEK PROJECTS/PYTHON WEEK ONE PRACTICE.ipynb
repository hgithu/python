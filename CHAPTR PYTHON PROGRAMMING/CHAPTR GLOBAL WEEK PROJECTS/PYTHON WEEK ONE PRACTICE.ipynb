{
 "cells": [
  {
   "cell_type": "code",
   "execution_count": 3,
   "id": "fe621586",
   "metadata": {},
   "outputs": [
    {
     "name": "stdout",
     "output_type": "stream",
     "text": [
      "    3 \n",
      "\n",
      "   3 3 \n",
      "\n",
      "  3 3 3 \n",
      "\n",
      " 3 3 3 3 \n",
      "\n",
      "  3 3 3 \n",
      "\n",
      "   3 3 \n",
      "\n",
      "    3 \n",
      "\n"
     ]
    }
   ],
   "source": [
    "#1 \n",
    "rows = 3\n",
    "k = 2 * rows - 2\n",
    "num = rows\n",
    "\n",
    "for i in range(0, rows):\n",
    "    for j in range(0, k):\n",
    "        print(end=\" \")\n",
    "\n",
    "    k = k - 1\n",
    "    for j in range(0, i + 1):\n",
    "        print(num, end=\" \")\n",
    "    print(\"\\n\")\n",
    "\n",
    "k = rows - 2\n",
    "\n",
    "for i in range(num, -1, -1):\n",
    "    for j in range(k, 0, -1):\n",
    "        print(end=\" \")\n",
    "\n",
    "    k = k + 1\n",
    "\n",
    "    for j in range(0, i + 1):\n",
    "        print(num, end=\" \")\n",
    "    print(\"\\n\")\n"
   ]
  },
  {
   "cell_type": "code",
   "execution_count": 4,
   "id": "5a21fab2",
   "metadata": {},
   "outputs": [
    {
     "name": "stdout",
     "output_type": "stream",
     "text": [
      "incorrect input\n",
      "None\n"
     ]
    }
   ],
   "source": [
    "#2\n",
    "def fibonacci (n):\n",
    "    if n <= 0:\n",
    "        print(\"incorrect input\")\n",
    "\n",
    "    elif n == 1:\n",
    "        return  0\n",
    "\n",
    "    elif n == 2:\n",
    "        return 1\n",
    "\n",
    "    else:\n",
    "        return fibonacci(n-1)+fibonacci(n-2)\n",
    "\n",
    "print(fibonacci(0))"
   ]
  },
  {
   "cell_type": "code",
   "execution_count": 12,
   "id": "0aa1e52e",
   "metadata": {},
   "outputs": [
    {
     "name": "stdout",
     "output_type": "stream",
     "text": [
      "Enter a number to check:45\n",
      "3 TRUE\n"
     ]
    }
   ],
   "source": [
    "#3\n",
    "def is_prime(n):\n",
    "    \n",
    "    is_prime = False\n",
    "    if num == 2:\n",
    "        is_prime = True\n",
    "    if num > 2:\n",
    "        is_prime = True\n",
    "        for i in range(2, num):\n",
    "            if num % i == 0:\n",
    "                is_prime = False\n",
    "                break\n",
    "\n",
    "    if is_prime:\n",
    "        print(num, \"TRUE\")\n",
    "    else:\n",
    "        print(num, \"FALSE\")\n",
    "\n",
    "\n",
    "if __name__ == '__main__':\n",
    "\n",
    "    userInput = int(input(\"Enter a number to check:\"))\n",
    "    if userInput > 1:\n",
    "        is_prime(userInput)\n",
    "    else:\n",
    "        print(\"Sorry, Input Number must be greater than 1\")\n",
    "\n",
    "   "
   ]
  },
  {
   "cell_type": "code",
   "execution_count": 23,
   "id": "b7f9b5d5",
   "metadata": {},
   "outputs": [
    {
     "ename": "SyntaxError",
     "evalue": "invalid syntax (2919214904.py, line 6)",
     "output_type": "error",
     "traceback": [
      "\u001b[0;36m  File \u001b[0;32m\"/tmp/ipykernel_3898/2919214904.py\"\u001b[0;36m, line \u001b[0;32m6\u001b[0m\n\u001b[0;31m    (print Sum)\u001b[0m\n\u001b[0m           ^\u001b[0m\n\u001b[0;31mSyntaxError\u001b[0m\u001b[0;31m:\u001b[0m invalid syntax\n"
     ]
    }
   ],
   "source": [
    "import math\n",
    "N = 2\n",
    "M = 12\n",
    "\n",
    "Sum = (n/2)*(n/2+1)- m/2*(m/2+1)\n",
    "(print Sum)"
   ]
  },
  {
   "cell_type": "code",
   "execution_count": null,
   "id": "540cea53",
   "metadata": {},
   "outputs": [],
   "source": [
    "\n"
   ]
  },
  {
   "cell_type": "code",
   "execution_count": null,
   "id": "ba23ac5c",
   "metadata": {},
   "outputs": [],
   "source": [
    "#4\n",
    "def recur_sum(n):\n",
    "    if n <= 1:\n",
    "        return n\n",
    "       \n",
    "    else:\n",
    "        return n + recur_sum(n-1)\n",
    "def recur_sum(m):\n",
    "    if m <= 1:\n",
    "        return m\n",
    "    else:\n",
    "        return m + recur_sum(m-1)\n",
    "# change this value for a different result\n",
    "num = 0\n",
    "num_m = 0\n",
    "\n",
    "if num < 0:\n",
    "    print(\"Enter a positive number\")\n",
    "    print(\"Enter another positive number\")\n",
    "else:\n",
    "    print(\"The Sum is\",recur_sum(num) + recur_sum(num_m) )\n",
    "   \n",
    "   \n",
    "\n"
   ]
  },
  {
   "cell_type": "code",
   "execution_count": null,
   "id": "d2a1777c",
   "metadata": {},
   "outputs": [],
   "source": []
  },
  {
   "cell_type": "code",
   "execution_count": null,
   "id": "c973ff07",
   "metadata": {},
   "outputs": [],
   "source": []
  }
 ],
 "metadata": {
  "kernelspec": {
   "display_name": "Python 3 (ipykernel)",
   "language": "python",
   "name": "python3"
  },
  "language_info": {
   "codemirror_mode": {
    "name": "ipython",
    "version": 3
   },
   "file_extension": ".py",
   "mimetype": "text/x-python",
   "name": "python",
   "nbconvert_exporter": "python",
   "pygments_lexer": "ipython3",
   "version": "3.8.10"
  }
 },
 "nbformat": 4,
 "nbformat_minor": 5
}
